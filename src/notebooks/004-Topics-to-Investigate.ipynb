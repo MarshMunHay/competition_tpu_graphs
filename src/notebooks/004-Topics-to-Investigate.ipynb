{
 "cells": [
  {
   "cell_type": "markdown",
   "id": "edec9e8f-9190-4878-b432-9a3b67c191a9",
   "metadata": {},
   "source": [
    "# Topics of Explorations\n",
    "\n",
    "\n",
    "## Data Generation\n",
    "> we\n",
    "acknowledge that the diversity of graphs in the dataset is extremely important for the generalizability\n",
    "of the model \n",
    "\n",
    "> One way to generate more realistic tensor programs is to leverage Neural Architecture\n",
    "Search\n",
    "\n",
    "## Model Enhancements\n",
    "\n",
    "> Which\n",
    "information in a tensor computation graph is important to make various optimization decisions\n",
    "\n",
    "> How\n",
    "can we build an accurate analytical cost model for an important class of hardware architectures\n",
    "\n",
    "## Ideas\n",
    "\n",
    "> Can we frame this as a reinforcement learning problem? [5]\n",
    "\n",
    "> Can we use tiles to inform Layout [3]\n",
    "\n",
    "> Apply Beam Experiment to Layout [1]"
   ]
  },
  {
   "cell_type": "code",
   "execution_count": null,
   "id": "381ee255-8090-46e1-b178-1a8cd9bd78ed",
   "metadata": {},
   "outputs": [],
   "source": []
  }
 ],
 "metadata": {
  "kernelspec": {
   "display_name": "Python 3 (ipykernel)",
   "language": "python",
   "name": "python3"
  },
  "language_info": {
   "codemirror_mode": {
    "name": "ipython",
    "version": 3
   },
   "file_extension": ".py",
   "mimetype": "text/x-python",
   "name": "python",
   "nbconvert_exporter": "python",
   "pygments_lexer": "ipython3",
   "version": "3.9.11"
  }
 },
 "nbformat": 4,
 "nbformat_minor": 5
}
