{
 "cells": [
  {
   "cell_type": "code",
   "execution_count": 3,
   "id": "5eceb547-da70-4f57-99b6-380b49ec24f3",
   "metadata": {},
   "outputs": [],
   "source": [
    "import os\n",
    "from tpu_graphs.baselines.layout import data"
   ]
  },
  {
   "cell_type": "code",
   "execution_count": 4,
   "id": "8749312b-7d3e-4906-8ef3-d0b4de849d6c",
   "metadata": {},
   "outputs": [],
   "source": [
    "import gzip\n",
    "import json\n",
    "from tpu_graphs.baselines.layout import train_args"
   ]
  },
  {
   "cell_type": "markdown",
   "id": "8995052c-d098-4e39-8916-273f5af79e3a",
   "metadata": {},
   "source": [
    "# Abstract\n",
    "\n",
    "I am interested in taking a well performing model and training it on more data"
   ]
  },
  {
   "cell_type": "code",
   "execution_count": 5,
   "id": "8a04eb7f-edca-465f-a931-942a80d7a2ff",
   "metadata": {},
   "outputs": [],
   "source": [
    "from tpu_graphs.baselines.layout.train_lib_1_2 import continue_train"
   ]
  },
  {
   "cell_type": "code",
   "execution_count": 6,
   "id": "a1556c54-b315-4180-8e29-5154b0a816a6",
   "metadata": {},
   "outputs": [],
   "source": [
    "def get_training_args(path:str):\n",
    "    with open(path, 'rb') as f:\n",
    "        data = gzip.GzipFile(fileobj=f)\n",
    "        data = dict(json.loads(data.read()))\n",
    "        # DEFAULT\n",
    "        if 'mlp_layers' not in data['args'].keys():\n",
    "            data['args']['mlp_layers'] = 2\n",
    "            data['args']['gc_layers'] = 2\n",
    "            data['args']['hidden_dim'] = 32\n",
    "    return train_args.TrainArgs(**data['args'])"
   ]
  },
  {
   "cell_type": "code",
   "execution_count": 7,
   "id": "1d35d11e-e97b-4f00-8bc5-0291c0a95e8e",
   "metadata": {},
   "outputs": [
    {
     "name": "stdout",
     "output_type": "stream",
     "text": [
      "/project/notebooks/tpu_graphs\n"
     ]
    }
   ],
   "source": [
    "!pwd"
   ]
  },
  {
   "cell_type": "code",
   "execution_count": 8,
   "id": "8b73ecec-2b6c-4adb-9507-2b367eb64fea",
   "metadata": {},
   "outputs": [],
   "source": [
    "training_args = get_training_args('/root/out/tpugraphs_layout/beam/run_4b6357f7385a50a70b311a353390ee40.jsonz')"
   ]
  },
  {
   "cell_type": "code",
   "execution_count": 9,
   "id": "c4c4ac4a-c34d-4ba9-aa24-ed38105a4d57",
   "metadata": {},
   "outputs": [],
   "source": [
    "training_args = training_args._replace(configs=12)\n",
    "training_args = training_args._replace(learning_rate=0.0001)\n",
    "training_args = training_args._replace(epochs=20)\n",
    "training_args = training_args._replace(max_configs=50)"
   ]
  },
  {
   "cell_type": "code",
   "execution_count": 10,
   "id": "e5533b35-c874-43e9-b573-b6b0b3f2a49e",
   "metadata": {},
   "outputs": [
    {
     "name": "stdout",
     "output_type": "stream",
     "text": [
      "TrainArgs(source='nlp', search='random', epochs=20, batch_size=4, configs=12, max_configs=50, early_stop=10, keep_nodes=5000, learning_rate=0.0001, clip_norm=0.01, out_dir='~/out/tpugraphs_layout/beam', results_csv='/root/out/tpugraphs_layout/beam/results_1695954285864.csv', validate_batches=50, mlp_layers=4, gc_layers=4, hidden_dim=32, run_id=0)\n",
      "dataset cache file:  /root/data/tpugraphs/cache/layout/466cac6da0633cbd620d74d7caf77c45-cache.npz\n"
     ]
    },
    {
     "name": "stderr",
     "output_type": "stream",
     "text": [
      "100%|██████████| 207/207 [03:36<00:00,  1.05s/it]\n"
     ]
    },
    {
     "name": "stdout",
     "output_type": "stream",
     "text": [
      "Saving ...\n",
      "wrote /root/data/tpugraphs/cache/layout/466cac6da0633cbd620d74d7caf77c45-cache.npz\n",
      "wrote /root/data/tpugraphs/cache/layout/466cac6da0633cbd620d74d7caf77c45-cache.npz.graphs.txt\n",
      "dataset cache file:  /root/data/tpugraphs/cache/layout/1f2af3a2d43d8126c5046d1f1ad76a8c-cache.npz\n"
     ]
    },
    {
     "name": "stderr",
     "output_type": "stream",
     "text": [
      "100%|██████████| 20/20 [00:21<00:00,  1.06s/it]\n"
     ]
    },
    {
     "name": "stdout",
     "output_type": "stream",
     "text": [
      "Saving ...\n",
      "wrote /root/data/tpugraphs/cache/layout/1f2af3a2d43d8126c5046d1f1ad76a8c-cache.npz\n",
      "wrote /root/data/tpugraphs/cache/layout/1f2af3a2d43d8126c5046d1f1ad76a8c-cache.npz.graphs.txt\n",
      "dataset cache file:  /root/data/tpugraphs/cache/layout/aeb24797c3ec913eed3a8036d237bc78-cache.npz\n",
      "loaded from /root/data/tpugraphs/cache/layout/aeb24797c3ec913eed3a8036d237bc78-cache.npz\n",
      "52/52 [==============================] - 444s 8s/step - loss: 12.6848 - opa_metric: 0.8240 - val_loss: 12.9693 - val_opa_metric: 0.7955\n"
     ]
    },
    {
     "name": "stderr",
     "output_type": "stream",
     "text": [
      "/usr/local/lib/python3.9/site-packages/tensorflow/python/saved_model/nested_structure_coder.py:475: UserWarning: Encoding a StructuredValue with type tensorflow_gnn.GraphTensorSpec; loading this StructuredValue will require that this type be imported and registered.\n",
      "  warnings.warn(\"Encoding a StructuredValue with type %s; loading this \"\n",
      "/usr/local/lib/python3.9/site-packages/tensorflow/python/saved_model/nested_structure_coder.py:475: UserWarning: Encoding a StructuredValue with type tensorflow_gnn.ContextSpec.v2; loading this StructuredValue will require that this type be imported and registered.\n",
      "  warnings.warn(\"Encoding a StructuredValue with type %s; loading this \"\n",
      "/usr/local/lib/python3.9/site-packages/tensorflow/python/saved_model/nested_structure_coder.py:475: UserWarning: Encoding a StructuredValue with type tensorflow_gnn.NodeSetSpec; loading this StructuredValue will require that this type be imported and registered.\n",
      "  warnings.warn(\"Encoding a StructuredValue with type %s; loading this \"\n",
      "/usr/local/lib/python3.9/site-packages/tensorflow/python/saved_model/nested_structure_coder.py:475: UserWarning: Encoding a StructuredValue with type tensorflow_gnn.EdgeSetSpec; loading this StructuredValue will require that this type be imported and registered.\n",
      "  warnings.warn(\"Encoding a StructuredValue with type %s; loading this \"\n",
      "/usr/local/lib/python3.9/site-packages/tensorflow/python/saved_model/nested_structure_coder.py:475: UserWarning: Encoding a StructuredValue with type tensorflow_gnn.AdjacencySpec; loading this StructuredValue will require that this type be imported and registered.\n",
      "  warnings.warn(\"Encoding a StructuredValue with type %s; loading this \"\n"
     ]
    },
    {
     "name": "stdout",
     "output_type": "stream",
     "text": [
      "INFO:tensorflow:Assets written to: /root/out/tpugraphs_layout/beam/model_53f8038a5494cc57b9175c5c38b4bef0/assets\n"
     ]
    },
    {
     "name": "stderr",
     "output_type": "stream",
     "text": [
      "INFO:tensorflow:Assets written to: /root/out/tpugraphs_layout/beam/model_53f8038a5494cc57b9175c5c38b4bef0/assets\n"
     ]
    },
    {
     "name": "stdout",
     "output_type": "stream",
     "text": [
      "52/52 [==============================] - 427s 8s/step - loss: 12.5500 - opa_metric: 0.8274 - val_loss: 12.3975 - val_opa_metric: 0.8371\n",
      "INFO:tensorflow:Assets written to: /root/out/tpugraphs_layout/beam/model_53f8038a5494cc57b9175c5c38b4bef0/assets\n"
     ]
    },
    {
     "name": "stderr",
     "output_type": "stream",
     "text": [
      "/usr/local/lib/python3.9/site-packages/tensorflow/python/saved_model/nested_structure_coder.py:475: UserWarning: Encoding a StructuredValue with type tensorflow_gnn.GraphTensorSpec; loading this StructuredValue will require that this type be imported and registered.\n",
      "  warnings.warn(\"Encoding a StructuredValue with type %s; loading this \"\n",
      "/usr/local/lib/python3.9/site-packages/tensorflow/python/saved_model/nested_structure_coder.py:475: UserWarning: Encoding a StructuredValue with type tensorflow_gnn.ContextSpec.v2; loading this StructuredValue will require that this type be imported and registered.\n",
      "  warnings.warn(\"Encoding a StructuredValue with type %s; loading this \"\n",
      "/usr/local/lib/python3.9/site-packages/tensorflow/python/saved_model/nested_structure_coder.py:475: UserWarning: Encoding a StructuredValue with type tensorflow_gnn.NodeSetSpec; loading this StructuredValue will require that this type be imported and registered.\n",
      "  warnings.warn(\"Encoding a StructuredValue with type %s; loading this \"\n",
      "/usr/local/lib/python3.9/site-packages/tensorflow/python/saved_model/nested_structure_coder.py:475: UserWarning: Encoding a StructuredValue with type tensorflow_gnn.EdgeSetSpec; loading this StructuredValue will require that this type be imported and registered.\n",
      "  warnings.warn(\"Encoding a StructuredValue with type %s; loading this \"\n",
      "/usr/local/lib/python3.9/site-packages/tensorflow/python/saved_model/nested_structure_coder.py:475: UserWarning: Encoding a StructuredValue with type tensorflow_gnn.AdjacencySpec; loading this StructuredValue will require that this type be imported and registered.\n",
      "  warnings.warn(\"Encoding a StructuredValue with type %s; loading this \"\n",
      "INFO:tensorflow:Assets written to: /root/out/tpugraphs_layout/beam/model_53f8038a5494cc57b9175c5c38b4bef0/assets\n"
     ]
    },
    {
     "name": "stdout",
     "output_type": "stream",
     "text": [
      "52/52 [==============================] - 470s 9s/step - loss: 12.2735 - opa_metric: 0.8366 - val_loss: 11.9558 - val_opa_metric: 0.8659\n"
     ]
    },
    {
     "name": "stderr",
     "output_type": "stream",
     "text": [
      "/usr/local/lib/python3.9/site-packages/tensorflow/python/saved_model/nested_structure_coder.py:475: UserWarning: Encoding a StructuredValue with type tensorflow_gnn.GraphTensorSpec; loading this StructuredValue will require that this type be imported and registered.\n",
      "  warnings.warn(\"Encoding a StructuredValue with type %s; loading this \"\n",
      "/usr/local/lib/python3.9/site-packages/tensorflow/python/saved_model/nested_structure_coder.py:475: UserWarning: Encoding a StructuredValue with type tensorflow_gnn.ContextSpec.v2; loading this StructuredValue will require that this type be imported and registered.\n",
      "  warnings.warn(\"Encoding a StructuredValue with type %s; loading this \"\n",
      "/usr/local/lib/python3.9/site-packages/tensorflow/python/saved_model/nested_structure_coder.py:475: UserWarning: Encoding a StructuredValue with type tensorflow_gnn.NodeSetSpec; loading this StructuredValue will require that this type be imported and registered.\n",
      "  warnings.warn(\"Encoding a StructuredValue with type %s; loading this \"\n",
      "/usr/local/lib/python3.9/site-packages/tensorflow/python/saved_model/nested_structure_coder.py:475: UserWarning: Encoding a StructuredValue with type tensorflow_gnn.EdgeSetSpec; loading this StructuredValue will require that this type be imported and registered.\n",
      "  warnings.warn(\"Encoding a StructuredValue with type %s; loading this \"\n",
      "/usr/local/lib/python3.9/site-packages/tensorflow/python/saved_model/nested_structure_coder.py:475: UserWarning: Encoding a StructuredValue with type tensorflow_gnn.AdjacencySpec; loading this StructuredValue will require that this type be imported and registered.\n",
      "  warnings.warn(\"Encoding a StructuredValue with type %s; loading this \"\n"
     ]
    },
    {
     "name": "stdout",
     "output_type": "stream",
     "text": [
      "INFO:tensorflow:Assets written to: /root/out/tpugraphs_layout/beam/model_53f8038a5494cc57b9175c5c38b4bef0/assets\n"
     ]
    },
    {
     "name": "stderr",
     "output_type": "stream",
     "text": [
      "INFO:tensorflow:Assets written to: /root/out/tpugraphs_layout/beam/model_53f8038a5494cc57b9175c5c38b4bef0/assets\n"
     ]
    },
    {
     "name": "stdout",
     "output_type": "stream",
     "text": [
      "52/52 [==============================] - 429s 8s/step - loss: 12.4038 - opa_metric: 0.8262 - val_loss: 12.3034 - val_opa_metric: 0.8226\n",
      "52/52 [==============================] - 418s 8s/step - loss: 11.6631 - opa_metric: 0.8443 - val_loss: 11.8658 - val_opa_metric: 0.8258\n",
      "52/52 [==============================] - 432s 8s/step - loss: 11.7803 - opa_metric: 0.8359 - val_loss: 11.8021 - val_opa_metric: 0.8508\n",
      "52/52 [==============================] - 460s 9s/step - loss: 11.7940 - opa_metric: 0.8378 - val_loss: 11.7458 - val_opa_metric: 0.8273\n",
      "52/52 [==============================] - 446s 9s/step - loss: 11.9338 - opa_metric: 0.8311 - val_loss: 11.1071 - val_opa_metric: 0.8561\n",
      "52/52 [==============================] - 432s 8s/step - loss: 11.4980 - opa_metric: 0.8400 - val_loss: 11.8172 - val_opa_metric: 0.8379\n",
      "52/52 [==============================] - 421s 8s/step - loss: 11.6288 - opa_metric: 0.8322 - val_loss: 11.3226 - val_opa_metric: 0.8583\n",
      "52/52 [==============================] - 427s 8s/step - loss: 11.6532 - opa_metric: 0.8422 - val_loss: 11.5735 - val_opa_metric: 0.8386\n",
      "52/52 [==============================] - 421s 8s/step - loss: 11.4939 - opa_metric: 0.8405 - val_loss: 10.0989 - val_opa_metric: 0.8758\n",
      "INFO:tensorflow:Assets written to: /root/out/tpugraphs_layout/beam/model_53f8038a5494cc57b9175c5c38b4bef0/assets\n"
     ]
    },
    {
     "name": "stderr",
     "output_type": "stream",
     "text": [
      "/usr/local/lib/python3.9/site-packages/tensorflow/python/saved_model/nested_structure_coder.py:475: UserWarning: Encoding a StructuredValue with type tensorflow_gnn.GraphTensorSpec; loading this StructuredValue will require that this type be imported and registered.\n",
      "  warnings.warn(\"Encoding a StructuredValue with type %s; loading this \"\n",
      "/usr/local/lib/python3.9/site-packages/tensorflow/python/saved_model/nested_structure_coder.py:475: UserWarning: Encoding a StructuredValue with type tensorflow_gnn.ContextSpec.v2; loading this StructuredValue will require that this type be imported and registered.\n",
      "  warnings.warn(\"Encoding a StructuredValue with type %s; loading this \"\n",
      "/usr/local/lib/python3.9/site-packages/tensorflow/python/saved_model/nested_structure_coder.py:475: UserWarning: Encoding a StructuredValue with type tensorflow_gnn.NodeSetSpec; loading this StructuredValue will require that this type be imported and registered.\n",
      "  warnings.warn(\"Encoding a StructuredValue with type %s; loading this \"\n",
      "/usr/local/lib/python3.9/site-packages/tensorflow/python/saved_model/nested_structure_coder.py:475: UserWarning: Encoding a StructuredValue with type tensorflow_gnn.EdgeSetSpec; loading this StructuredValue will require that this type be imported and registered.\n",
      "  warnings.warn(\"Encoding a StructuredValue with type %s; loading this \"\n",
      "/usr/local/lib/python3.9/site-packages/tensorflow/python/saved_model/nested_structure_coder.py:475: UserWarning: Encoding a StructuredValue with type tensorflow_gnn.AdjacencySpec; loading this StructuredValue will require that this type be imported and registered.\n",
      "  warnings.warn(\"Encoding a StructuredValue with type %s; loading this \"\n",
      "INFO:tensorflow:Assets written to: /root/out/tpugraphs_layout/beam/model_53f8038a5494cc57b9175c5c38b4bef0/assets\n"
     ]
    },
    {
     "name": "stdout",
     "output_type": "stream",
     "text": [
      "52/52 [==============================] - 446s 8s/step - loss: 11.6190 - opa_metric: 0.8347 - val_loss: 10.9951 - val_opa_metric: 0.8643\n",
      "52/52 [==============================] - 428s 8s/step - loss: 11.5605 - opa_metric: 0.8367 - val_loss: 11.0077 - val_opa_metric: 0.8667\n",
      "52/52 [==============================] - 435s 8s/step - loss: 11.3610 - opa_metric: 0.8466 - val_loss: 10.8602 - val_opa_metric: 0.8652\n",
      "52/52 [==============================] - 455s 9s/step - loss: 11.1483 - opa_metric: 0.8459 - val_loss: 11.6831 - val_opa_metric: 0.8424\n",
      "52/52 [==============================] - 444s 9s/step - loss: 11.3391 - opa_metric: 0.8406 - val_loss: 10.6728 - val_opa_metric: 0.8560\n",
      "52/52 [==============================] - 437s 8s/step - loss: 11.3460 - opa_metric: 0.8436 - val_loss: 12.1094 - val_opa_metric: 0.8158\n",
      " 3/52 [>.............................] - ETA: 5:18 - loss: 10.9606 - opa_metric: 0.8826"
     ]
    },
    {
     "name": "stderr",
     "output_type": "stream",
     "text": [
      "\n",
      "KeyboardInterrupt\n",
      "\n"
     ]
    }
   ],
   "source": [
    "continue_train(training_args, '/root/out/tpugraphs_layout/beam/model_4b6357f7385a50a70b311a353390ee40')"
   ]
  },
  {
   "cell_type": "code",
   "execution_count": null,
   "id": "a5db116d-6491-4a57-bfbf-79f884448332",
   "metadata": {},
   "outputs": [],
   "source": []
  }
 ],
 "metadata": {
  "kernelspec": {
   "display_name": "Python 3 (ipykernel)",
   "language": "python",
   "name": "python3"
  },
  "language_info": {
   "codemirror_mode": {
    "name": "ipython",
    "version": 3
   },
   "file_extension": ".py",
   "mimetype": "text/x-python",
   "name": "python",
   "nbconvert_exporter": "python",
   "pygments_lexer": "ipython3",
   "version": "3.9.11"
  }
 },
 "nbformat": 4,
 "nbformat_minor": 5
}
