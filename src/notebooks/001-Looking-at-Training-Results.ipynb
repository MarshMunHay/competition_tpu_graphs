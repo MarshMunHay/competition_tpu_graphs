{
 "cells": [
  {
   "cell_type": "code",
   "execution_count": 23,
   "id": "e2568c8b-3f22-4844-8aec-ca18408c8a96",
   "metadata": {},
   "outputs": [],
   "source": [
    "import json\n",
    "import io\n",
    "import gzip\n",
    "import pandas as pd\n",
    "import glob\n",
    "\n",
    "bytes_io = io.BytesIO()\n",
    "with open('out/tpugraphs_layout/run_4291fe6bee6416cd2571c65e3e4d5c8c.jsonz', 'rb') as f:\n",
    "    data = gzip.GzipFile(fileobj=f)\n",
    "    data = data.read()"
   ]
  },
  {
   "cell_type": "code",
   "execution_count": 3,
   "id": "58c44d34-a86a-4f42-bf84-f8cc774c48cb",
   "metadata": {},
   "outputs": [],
   "source": [
    "import plotly.express as px"
   ]
  },
  {
   "cell_type": "code",
   "execution_count": 4,
   "id": "b6018780-95bb-4837-98a4-99a783e19d14",
   "metadata": {},
   "outputs": [],
   "source": [
    "data_dict = json.loads(data)"
   ]
  },
  {
   "cell_type": "code",
   "execution_count": 5,
   "id": "441f5324-2c91-4997-93de-fe468af9c419",
   "metadata": {},
   "outputs": [],
   "source": [
    "results = pd.DataFrame(data_dict['train_curve'])"
   ]
  },
  {
   "cell_type": "markdown",
   "id": "10bbe9e8-c05d-4ba8-8b39-0f9f60c78b9f",
   "metadata": {},
   "source": [
    "# Layout Performance"
   ]
  },
  {
   "cell_type": "code",
   "execution_count": 6,
   "id": "fd83a508-80e3-4939-81c1-b3a82c9119a0",
   "metadata": {},
   "outputs": [
    {
     "data": {
      "text/plain": [
       "{'train_curve': {'epoch': [0],\n",
       "  'train_loss': [28.02408790588379],\n",
       "  'train_opa': [0.5479363799095154],\n",
       "  'val_loss': [27.880842208862305],\n",
       "  'val_opa': [0.6327160596847534]},\n",
       " 'final_opa': {},\n",
       " 'args': {'source': 'xla',\n",
       "  'search': 'random',\n",
       "  'epochs': 10,\n",
       "  'batch_size': 8,\n",
       "  'configs': 16,\n",
       "  'max_configs': 1000,\n",
       "  'early_stop': 40,\n",
       "  'keep_nodes': 5000,\n",
       "  'learning_rate': 0.001,\n",
       "  'clip_norm': 0.01,\n",
       "  'out_dir': '~/out/tpugraphs_layout',\n",
       "  'results_csv': '/root/out/tpugraphs_layout/results_1695136943079_xla_random.csv',\n",
       "  'validate_batches': 10,\n",
       "  'run_id': ''}}"
      ]
     },
     "execution_count": 6,
     "metadata": {},
     "output_type": "execute_result"
    }
   ],
   "source": [
    "data_dict"
   ]
  },
  {
   "cell_type": "code",
   "execution_count": 7,
   "id": "e09f8872-2361-4687-a5e6-97a3bb895911",
   "metadata": {},
   "outputs": [
    {
     "name": "stdout",
     "output_type": "stream",
     "text": [
      "xla-default: 0.5612998604774475\n",
      "10\n",
      "Completed 3\n",
      "4\n",
      "16\n",
      "===============\n",
      "xla-random: 0.6327160596847534\n",
      "10\n",
      "Completed 1\n",
      "8\n",
      "16\n",
      "===============\n",
      "nlp-random: 0.5458333492279053\n",
      "10\n",
      "Completed 7\n",
      "4\n",
      "16\n",
      "===============\n",
      "nlp-default: 0.543749988079071\n",
      "10\n",
      "Completed 7\n",
      "4\n",
      "16\n",
      "===============\n",
      "xla-random: 0.5083333253860474\n",
      "4\n",
      "Completed 2\n",
      "8\n",
      "16\n",
      "===============\n",
      "xla-random: 0.6620370149612427\n",
      "10\n",
      "Completed 6\n",
      "4\n",
      "16\n",
      "===============\n",
      "nlp-random: 0.5318883061408997\n",
      "10\n",
      "Completed 3\n",
      "4\n",
      "16\n",
      "===============\n",
      "xla-random: 0.5270833373069763\n",
      "4\n",
      "Completed 1\n",
      "8\n",
      "16\n",
      "===============\n",
      "xla-random: 0.5979166626930237\n",
      "10\n",
      "Completed 4\n",
      "8\n",
      "16\n",
      "===============\n"
     ]
    }
   ],
   "source": [
    "layout_files = glob.glob('out/tpugraphs_layout/*.jsonz')\n",
    "\n",
    "for file in layout_files:\n",
    "    with open(file, 'rb') as f:\n",
    "        data = gzip.GzipFile(fileobj=f)\n",
    "        data = data.read()\n",
    "        data_dict = json.loads(data)\n",
    "        print(f'{data_dict[\"args\"][\"source\"]}-{data_dict[\"args\"][\"search\"]}: {max(data_dict[\"train_curve\"][\"val_opa\"])}')\n",
    "        print(f'{data_dict[\"args\"][\"epochs\"]}')\n",
    "        print(f'Completed {len(data_dict[\"train_curve\"][\"epoch\"])}')\n",
    "        print(f'{data_dict[\"args\"][\"batch_size\"]}')\n",
    "        print(f'{data_dict[\"args\"][\"configs\"]}')\n",
    "        print('='*15)"
   ]
  },
  {
   "cell_type": "code",
   "execution_count": 8,
   "id": "a67a8e9c-e0a6-4e3b-9a9a-08d797fa0c54",
   "metadata": {},
   "outputs": [
    {
     "name": "stdout",
     "output_type": "stream",
     "text": [
      "0.8747217655181885\n"
     ]
    }
   ],
   "source": [
    "tile_files = glob.glob('out/tpugraphs_tiles/*.jsonz')\n",
    "\n",
    "for file in tile_files:\n",
    "    with open(file, 'rb') as f:\n",
    "        data = gzip.GzipFile(fileobj=f)\n",
    "        data = data.read()\n",
    "        data_dict = json.loads(data)\n",
    "        print(f'{max(data_dict[\"train_curve\"][\"val_opa\"])}')"
   ]
  },
  {
   "cell_type": "code",
   "execution_count": 16,
   "id": "8058605d-c3a9-47db-b67a-10c311f999f1",
   "metadata": {},
   "outputs": [
    {
     "data": {
      "text/plain": [
       "0.8747217655181885"
      ]
     },
     "execution_count": 16,
     "metadata": {},
     "output_type": "execute_result"
    }
   ],
   "source": [
    "max(data_dict['train_curve']['val_opa'])"
   ]
  },
  {
   "cell_type": "code",
   "execution_count": 14,
   "id": "2cb1f1b0-3244-44bd-8662-a177cc86c0ee",
   "metadata": {},
   "outputs": [
    {
     "data": {
      "text/plain": [
       "{'epochs': 100,\n",
       " 'eval_every': 5,\n",
       " 'batch_size': 10,\n",
       " 'configs': 10,\n",
       " 'early_stop': 20,\n",
       " 'losses': 'ListMLELoss:1,MSE:0.02',\n",
       " 'learning_rate': 0.001,\n",
       " 'clip_norm': 0.001,\n",
       " 'model': 'EarlyJoinSAGE',\n",
       " 'model_kwargs_json': '{}',\n",
       " 'test_mode': 'predictions',\n",
       " 'out_dir': '~/out/tpugraphs_tiles',\n",
       " 'results_csv': '/root/out/tpugraphs_tiles/results_1695160398841.csv',\n",
       " 'validate_batches': -1,\n",
       " 'run_id': ''}"
      ]
     },
     "execution_count": 14,
     "metadata": {},
     "output_type": "execute_result"
    }
   ],
   "source": [
    "data_dict['args']"
   ]
  },
  {
   "cell_type": "code",
   "execution_count": 53,
   "id": "c11d9ea9-1ad3-4a29-8647-e54958601f67",
   "metadata": {},
   "outputs": [
    {
     "data": {
      "text/plain": [
       "{'val': {'1': 0.1244023916184552,\n",
       "  '5': 0.037590790343477766,\n",
       "  '10': 0.023528117946076395}}"
      ]
     },
     "execution_count": 53,
     "metadata": {},
     "output_type": "execute_result"
    }
   ],
   "source": [
    "data_dict['final_error']"
   ]
  },
  {
   "cell_type": "code",
   "execution_count": 23,
   "id": "56485c02-01f7-4d67-ab68-6b59a0d426a9",
   "metadata": {},
   "outputs": [
    {
     "data": {
      "text/plain": [
       "b'{\"Hello\": \"World\"}'"
      ]
     },
     "execution_count": 23,
     "metadata": {},
     "output_type": "execute_result"
    }
   ],
   "source": [
    "json.dumps({'Hello':'World'}).encode()"
   ]
  },
  {
   "cell_type": "code",
   "execution_count": 25,
   "id": "1d712823-9062-4cb9-b676-8af9b24260c8",
   "metadata": {},
   "outputs": [],
   "source": [
    "import tensorflow as tf"
   ]
  },
  {
   "cell_type": "code",
   "execution_count": 26,
   "id": "eac9a0d2-698b-4c2a-aa69-a9e67773c0a3",
   "metadata": {},
   "outputs": [],
   "source": [
    "with tf.io.gfile.GFile('out/tpugraphs_layout/run_24846e5af61bce70662383fad92f1a53.jsonz', 'rb') as f:\n",
    "    data = f.read()"
   ]
  },
  {
   "cell_type": "markdown",
   "id": "f65ff87a-4b88-4128-9f76-fc55baefdd58",
   "metadata": {},
   "source": [
    "# Tiles Beam Experiment"
   ]
  },
  {
   "cell_type": "code",
   "execution_count": 20,
   "id": "d45d4285-4bc0-45cc-bb00-ac14c9f2def7",
   "metadata": {},
   "outputs": [],
   "source": [
    "import tensorflow as tf"
   ]
  },
  {
   "cell_type": "code",
   "execution_count": 30,
   "id": "3fcff99b-f4f2-400e-8d13-9335d6b7d858",
   "metadata": {},
   "outputs": [],
   "source": [
    "beam_tile_files = glob.glob('/root/out/tpugraphs_tiles/beam/*.jsonz')\n",
    "max_val_opa = 0\n",
    "max_file = ''\n",
    "for file_name in beam_tile_files:\n",
    "    with open(file_name, 'rb') as f:\n",
    "        data = gzip.GzipFile(fileobj=f)\n",
    "        data = data.read()\n",
    "        data_dict = json.loads(data)\n",
    "        local_ = max(data_dict['train_curve']['val_opa'])\n",
    "        if local_ > max_val_opa:\n",
    "            max_val_opa = local_\n",
    "            max_file = file_name"
   ]
  },
  {
   "cell_type": "code",
   "execution_count": 31,
   "id": "fac07ff1-2fb6-45ad-a5ec-52ecfa9cd490",
   "metadata": {},
   "outputs": [
    {
     "data": {
      "text/plain": [
       "0.7622220516204834"
      ]
     },
     "execution_count": 31,
     "metadata": {},
     "output_type": "execute_result"
    }
   ],
   "source": [
    "max_val_opa"
   ]
  },
  {
   "cell_type": "code",
   "execution_count": 32,
   "id": "e1f74ab7-f5ee-4d09-8870-3e7d66e01ec2",
   "metadata": {},
   "outputs": [
    {
     "data": {
      "text/plain": [
       "'/root/out/tpugraphs_tiles/beam/run_fc37be71ce966509a5250595d4205455.jsonz'"
      ]
     },
     "execution_count": 32,
     "metadata": {},
     "output_type": "execute_result"
    }
   ],
   "source": [
    "max_file"
   ]
  },
  {
   "cell_type": "code",
   "execution_count": 33,
   "id": "365e9877-5df0-4c9d-938d-faedab6c2acb",
   "metadata": {},
   "outputs": [],
   "source": [
    "with open(max_file, 'rb') as f:\n",
    "        data = gzip.GzipFile(fileobj=f)\n",
    "        data = data.read()\n",
    "        data_dict = json.loads(data)"
   ]
  },
  {
   "cell_type": "code",
   "execution_count": 41,
   "id": "0cfd4eee-3a93-4673-9d40-4e455c0e8cb9",
   "metadata": {},
   "outputs": [
    {
     "data": {
      "text/plain": [
       "{'epochs': 500,\n",
       " 'eval_every': 2,\n",
       " 'batch_size': 10,\n",
       " 'configs': 8,\n",
       " 'early_stop': 10,\n",
       " 'losses': 'ListMLELoss:1',\n",
       " 'learning_rate': 0.001,\n",
       " 'clip_norm': 0.001,\n",
       " 'model': 'MLP',\n",
       " 'model_kwargs_json': '{\"op_embed_dim\": 64, \"hidden_dim\": 64, \"mlp_layers\": 2}',\n",
       " 'test_mode': 'metrics',\n",
       " 'out_dir': '~/out/tpugraphs_tiles/beam',\n",
       " 'results_csv': '/root/out/tpugraphs_tiles/beam/results_1695298181833.csv',\n",
       " 'validate_batches': 50,\n",
       " 'run_id': 0}"
      ]
     },
     "execution_count": 41,
     "metadata": {},
     "output_type": "execute_result"
    }
   ],
   "source": [
    "data_dict['args']"
   ]
  },
  {
   "cell_type": "code",
   "execution_count": 46,
   "id": "afd48aef-b093-4771-b13f-355f87ed28f9",
   "metadata": {},
   "outputs": [
    {
     "name": "stdout",
     "output_type": "stream",
     "text": [
      "dataset cache file:  /root/data/tpugraphs/cache/tile/1b7724c4cac8d16759868d6e7c1c773d-cache.npz\n",
      "loaded from /root/data/tpugraphs/cache/tile/1b7724c4cac8d16759868d6e7c1c773d-cache.npz\n",
      "dataset cache file:  /root/data/tpugraphs/cache/tile/fcadc92f971864fbda69106d46a417d3-cache.npz\n",
      "loaded from /root/data/tpugraphs/cache/tile/fcadc92f971864fbda69106d46a417d3-cache.npz\n",
      "dataset cache file:  /root/data/tpugraphs/cache/tile/b615a0d1c22f18055a1761b9270a2bd6-cache.npz\n",
      "loaded from /root/data/tpugraphs/cache/tile/b615a0d1c22f18055a1761b9270a2bd6-cache.npz\n",
      "565/565 [==============================] - 5s 3ms/step - loss: 10.1320 - opa_metric: 0.7301 - val_loss: 9.7538 - val_opa_metric: 0.7447\n",
      "I0921 15:41:00.956149 281473127567376 train_lib.py:152]  * [@0] Validation (NEW BEST): 0.7447004318237305\n",
      "I0921 15:41:00.956754 281473127567376 train_lib.py:70] wrote /root/out/tpugraphs_tiles/run_e0e9d841871f951e2fb09ee450c4f3c5.jsonz\n",
      "I0921 15:41:01.348593 281473127567376 signature_serialization.py:148] Function `_wrapped_model` contains input name(s) args_0, 7138, resource with unsupported characters which will be renamed to args_0_18, mlp_private__op_embedding_embedding_embedding_lookup_7138, mlp_sequential_dense_2_biasadd_readvariableop_resource in the SavedModel.\n",
      "I0921 15:41:01.475879 281473127567376 save.py:274] Found untraced functions such as _update_step_xla while saving (showing 1 of 1). These functions will not be directly callable after loading.\n",
      "/usr/local/lib/python3.9/site-packages/tensorflow/python/saved_model/nested_structure_coder.py:475: UserWarning: Encoding a StructuredValue with type tensorflow_gnn.GraphTensorSpec; loading this StructuredValue will require that this type be imported and registered.\n",
      "  warnings.warn(\"Encoding a StructuredValue with type %s; loading this \"\n",
      "/usr/local/lib/python3.9/site-packages/tensorflow/python/saved_model/nested_structure_coder.py:475: UserWarning: Encoding a StructuredValue with type tensorflow_gnn.ContextSpec.v2; loading this StructuredValue will require that this type be imported and registered.\n",
      "  warnings.warn(\"Encoding a StructuredValue with type %s; loading this \"\n",
      "/usr/local/lib/python3.9/site-packages/tensorflow/python/saved_model/nested_structure_coder.py:475: UserWarning: Encoding a StructuredValue with type tensorflow_gnn.NodeSetSpec; loading this StructuredValue will require that this type be imported and registered.\n",
      "  warnings.warn(\"Encoding a StructuredValue with type %s; loading this \"\n",
      "/usr/local/lib/python3.9/site-packages/tensorflow/python/saved_model/nested_structure_coder.py:475: UserWarning: Encoding a StructuredValue with type tensorflow_gnn.EdgeSetSpec; loading this StructuredValue will require that this type be imported and registered.\n",
      "  warnings.warn(\"Encoding a StructuredValue with type %s; loading this \"\n",
      "/usr/local/lib/python3.9/site-packages/tensorflow/python/saved_model/nested_structure_coder.py:475: UserWarning: Encoding a StructuredValue with type tensorflow_gnn.AdjacencySpec; loading this StructuredValue will require that this type be imported and registered.\n",
      "  warnings.warn(\"Encoding a StructuredValue with type %s; loading this \"\n",
      "INFO:tensorflow:Assets written to: /root/out/tpugraphs_tiles/model_e0e9d841871f951e2fb09ee450c4f3c5/assets\n",
      "I0921 15:41:01.699793 281473127567376 builder_impl.py:804] Assets written to: /root/out/tpugraphs_tiles/model_e0e9d841871f951e2fb09ee450c4f3c5/assets\n",
      "I0921 15:41:01.710591 281473127567376 fingerprinting_utils.py:48] Writing fingerprint to /root/out/tpugraphs_tiles/model_e0e9d841871f951e2fb09ee450c4f3c5/fingerprint.pb\n",
      "I0921 15:41:01.724306 281473127567376 train_lib.py:75] wrote /root/out/tpugraphs_tiles/model_e0e9d841871f951e2fb09ee450c4f3c5\n",
      "565/565 [==============================] - 3s 3ms/step - loss: 9.6880 - opa_metric: 0.7383 - val_loss: 9.6097 - val_opa_metric: 0.7502\n",
      "I0921 15:41:04.301102 281473127567376 train_lib.py:152]  * [@1] Validation (NEW BEST): 0.7501627802848816\n",
      "I0921 15:41:04.301533 281473127567376 train_lib.py:70] wrote /root/out/tpugraphs_tiles/run_e0e9d841871f951e2fb09ee450c4f3c5.jsonz\n",
      "I0921 15:41:04.658107 281473127567376 signature_serialization.py:148] Function `_wrapped_model` contains input name(s) args_0, 11427, resource with unsupported characters which will be renamed to args_0_18, mlp_private__op_embedding_embedding_embedding_lookup_11427, mlp_sequential_dense_2_biasadd_readvariableop_resource in the SavedModel.\n",
      "I0921 15:41:04.764167 281473127567376 save.py:274] Found untraced functions such as _update_step_xla while saving (showing 1 of 1). These functions will not be directly callable after loading.\n",
      "/usr/local/lib/python3.9/site-packages/tensorflow/python/saved_model/nested_structure_coder.py:475: UserWarning: Encoding a StructuredValue with type tensorflow_gnn.GraphTensorSpec; loading this StructuredValue will require that this type be imported and registered.\n",
      "  warnings.warn(\"Encoding a StructuredValue with type %s; loading this \"\n",
      "/usr/local/lib/python3.9/site-packages/tensorflow/python/saved_model/nested_structure_coder.py:475: UserWarning: Encoding a StructuredValue with type tensorflow_gnn.ContextSpec.v2; loading this StructuredValue will require that this type be imported and registered.\n",
      "  warnings.warn(\"Encoding a StructuredValue with type %s; loading this \"\n",
      "/usr/local/lib/python3.9/site-packages/tensorflow/python/saved_model/nested_structure_coder.py:475: UserWarning: Encoding a StructuredValue with type tensorflow_gnn.NodeSetSpec; loading this StructuredValue will require that this type be imported and registered.\n",
      "  warnings.warn(\"Encoding a StructuredValue with type %s; loading this \"\n",
      "/usr/local/lib/python3.9/site-packages/tensorflow/python/saved_model/nested_structure_coder.py:475: UserWarning: Encoding a StructuredValue with type tensorflow_gnn.EdgeSetSpec; loading this StructuredValue will require that this type be imported and registered.\n",
      "  warnings.warn(\"Encoding a StructuredValue with type %s; loading this \"\n",
      "/usr/local/lib/python3.9/site-packages/tensorflow/python/saved_model/nested_structure_coder.py:475: UserWarning: Encoding a StructuredValue with type tensorflow_gnn.AdjacencySpec; loading this StructuredValue will require that this type be imported and registered.\n",
      "  warnings.warn(\"Encoding a StructuredValue with type %s; loading this \"\n",
      "INFO:tensorflow:Assets written to: /root/out/tpugraphs_tiles/model_e0e9d841871f951e2fb09ee450c4f3c5/assets\n",
      "I0921 15:41:04.926645 281473127567376 builder_impl.py:804] Assets written to: /root/out/tpugraphs_tiles/model_e0e9d841871f951e2fb09ee450c4f3c5/assets\n",
      "I0921 15:41:04.938267 281473127567376 fingerprinting_utils.py:48] Writing fingerprint to /root/out/tpugraphs_tiles/model_e0e9d841871f951e2fb09ee450c4f3c5/fingerprint.pb\n",
      "I0921 15:41:04.953291 281473127567376 train_lib.py:75] wrote /root/out/tpugraphs_tiles/model_e0e9d841871f951e2fb09ee450c4f3c5\n",
      "565/565 [==============================] - 3s 3ms/step - loss: 9.7023 - opa_metric: 0.7420 - val_loss: 9.7034 - val_opa_metric: 0.7514\n",
      "I0921 15:41:07.557642 281473127567376 train_lib.py:152]  * [@2] Validation (NEW BEST): 0.7514103055000305\n",
      "I0921 15:41:07.558337 281473127567376 train_lib.py:70] wrote /root/out/tpugraphs_tiles/run_e0e9d841871f951e2fb09ee450c4f3c5.jsonz\n",
      "I0921 15:41:07.899141 281473127567376 signature_serialization.py:148] Function `_wrapped_model` contains input name(s) args_0, 15689, resource with unsupported characters which will be renamed to args_0_18, mlp_private__op_embedding_embedding_embedding_lookup_15689, mlp_sequential_dense_2_biasadd_readvariableop_resource in the SavedModel.\n",
      "I0921 15:41:08.000154 281473127567376 save.py:274] Found untraced functions such as _update_step_xla while saving (showing 1 of 1). These functions will not be directly callable after loading.\n",
      "/usr/local/lib/python3.9/site-packages/tensorflow/python/saved_model/nested_structure_coder.py:475: UserWarning: Encoding a StructuredValue with type tensorflow_gnn.GraphTensorSpec; loading this StructuredValue will require that this type be imported and registered.\n",
      "  warnings.warn(\"Encoding a StructuredValue with type %s; loading this \"\n",
      "/usr/local/lib/python3.9/site-packages/tensorflow/python/saved_model/nested_structure_coder.py:475: UserWarning: Encoding a StructuredValue with type tensorflow_gnn.ContextSpec.v2; loading this StructuredValue will require that this type be imported and registered.\n",
      "  warnings.warn(\"Encoding a StructuredValue with type %s; loading this \"\n",
      "/usr/local/lib/python3.9/site-packages/tensorflow/python/saved_model/nested_structure_coder.py:475: UserWarning: Encoding a StructuredValue with type tensorflow_gnn.NodeSetSpec; loading this StructuredValue will require that this type be imported and registered.\n",
      "  warnings.warn(\"Encoding a StructuredValue with type %s; loading this \"\n",
      "/usr/local/lib/python3.9/site-packages/tensorflow/python/saved_model/nested_structure_coder.py:475: UserWarning: Encoding a StructuredValue with type tensorflow_gnn.EdgeSetSpec; loading this StructuredValue will require that this type be imported and registered.\n",
      "  warnings.warn(\"Encoding a StructuredValue with type %s; loading this \"\n",
      "/usr/local/lib/python3.9/site-packages/tensorflow/python/saved_model/nested_structure_coder.py:475: UserWarning: Encoding a StructuredValue with type tensorflow_gnn.AdjacencySpec; loading this StructuredValue will require that this type be imported and registered.\n",
      "  warnings.warn(\"Encoding a StructuredValue with type %s; loading this \"\n",
      "INFO:tensorflow:Assets written to: /root/out/tpugraphs_tiles/model_e0e9d841871f951e2fb09ee450c4f3c5/assets\n",
      "I0921 15:41:08.155811 281473127567376 builder_impl.py:804] Assets written to: /root/out/tpugraphs_tiles/model_e0e9d841871f951e2fb09ee450c4f3c5/assets\n",
      "I0921 15:41:08.166802 281473127567376 fingerprinting_utils.py:48] Writing fingerprint to /root/out/tpugraphs_tiles/model_e0e9d841871f951e2fb09ee450c4f3c5/fingerprint.pb\n",
      "I0921 15:41:08.180234 281473127567376 train_lib.py:75] wrote /root/out/tpugraphs_tiles/model_e0e9d841871f951e2fb09ee450c4f3c5\n",
      "565/565 [==============================] - 3s 3ms/step - loss: 9.6426 - opa_metric: 0.7438 - val_loss: 9.8381 - val_opa_metric: 0.7485\n",
      "565/565 [==============================] - 3s 3ms/step - loss: 9.6986 - opa_metric: 0.7413 - val_loss: 9.7979 - val_opa_metric: 0.7494\n",
      "565/565 [==============================] - 3s 3ms/step - loss: 9.6611 - opa_metric: 0.7447 - val_loss: 9.6437 - val_opa_metric: 0.7430\n",
      "565/565 [==============================] - 3s 3ms/step - loss: 9.6841 - opa_metric: 0.7396 - val_loss: 9.6014 - val_opa_metric: 0.7535\n",
      "I0921 15:41:18.594417 281473127567376 train_lib.py:152]  * [@6] Validation (NEW BEST): 0.7534573674201965\n",
      "I0921 15:41:18.595012 281473127567376 train_lib.py:70] wrote /root/out/tpugraphs_tiles/run_e0e9d841871f951e2fb09ee450c4f3c5.jsonz\n",
      "I0921 15:41:18.936822 281473127567376 signature_serialization.py:148] Function `_wrapped_model` contains input name(s) args_0, 27727, resource with unsupported characters which will be renamed to args_0_18, mlp_private__op_embedding_embedding_embedding_lookup_27727, mlp_sequential_dense_2_biasadd_readvariableop_resource in the SavedModel.\n",
      "I0921 15:41:19.038854 281473127567376 save.py:274] Found untraced functions such as _update_step_xla while saving (showing 1 of 1). These functions will not be directly callable after loading.\n",
      "/usr/local/lib/python3.9/site-packages/tensorflow/python/saved_model/nested_structure_coder.py:475: UserWarning: Encoding a StructuredValue with type tensorflow_gnn.GraphTensorSpec; loading this StructuredValue will require that this type be imported and registered.\n",
      "  warnings.warn(\"Encoding a StructuredValue with type %s; loading this \"\n",
      "/usr/local/lib/python3.9/site-packages/tensorflow/python/saved_model/nested_structure_coder.py:475: UserWarning: Encoding a StructuredValue with type tensorflow_gnn.ContextSpec.v2; loading this StructuredValue will require that this type be imported and registered.\n",
      "  warnings.warn(\"Encoding a StructuredValue with type %s; loading this \"\n",
      "/usr/local/lib/python3.9/site-packages/tensorflow/python/saved_model/nested_structure_coder.py:475: UserWarning: Encoding a StructuredValue with type tensorflow_gnn.NodeSetSpec; loading this StructuredValue will require that this type be imported and registered.\n",
      "  warnings.warn(\"Encoding a StructuredValue with type %s; loading this \"\n",
      "/usr/local/lib/python3.9/site-packages/tensorflow/python/saved_model/nested_structure_coder.py:475: UserWarning: Encoding a StructuredValue with type tensorflow_gnn.EdgeSetSpec; loading this StructuredValue will require that this type be imported and registered.\n",
      "  warnings.warn(\"Encoding a StructuredValue with type %s; loading this \"\n",
      "/usr/local/lib/python3.9/site-packages/tensorflow/python/saved_model/nested_structure_coder.py:475: UserWarning: Encoding a StructuredValue with type tensorflow_gnn.AdjacencySpec; loading this StructuredValue will require that this type be imported and registered.\n",
      "  warnings.warn(\"Encoding a StructuredValue with type %s; loading this \"\n",
      "INFO:tensorflow:Assets written to: /root/out/tpugraphs_tiles/model_e0e9d841871f951e2fb09ee450c4f3c5/assets\n",
      "I0921 15:41:19.194308 281473127567376 builder_impl.py:804] Assets written to: /root/out/tpugraphs_tiles/model_e0e9d841871f951e2fb09ee450c4f3c5/assets\n",
      "I0921 15:41:19.205877 281473127567376 fingerprinting_utils.py:48] Writing fingerprint to /root/out/tpugraphs_tiles/model_e0e9d841871f951e2fb09ee450c4f3c5/fingerprint.pb\n",
      "I0921 15:41:19.219945 281473127567376 train_lib.py:75] wrote /root/out/tpugraphs_tiles/model_e0e9d841871f951e2fb09ee450c4f3c5\n",
      "565/565 [==============================] - 3s 3ms/step - loss: 9.6436 - opa_metric: 0.7425 - val_loss: 9.6307 - val_opa_metric: 0.7515\n",
      "565/565 [==============================] - 3s 3ms/step - loss: 9.6597 - opa_metric: 0.7432 - val_loss: 9.5571 - val_opa_metric: 0.7554\n",
      "I0921 15:41:24.431281 281473127567376 train_lib.py:152]  * [@8] Validation (NEW BEST): 0.7554085850715637\n",
      "I0921 15:41:24.431964 281473127567376 train_lib.py:70] wrote /root/out/tpugraphs_tiles/run_e0e9d841871f951e2fb09ee450c4f3c5.jsonz\n",
      "I0921 15:41:24.874058 281473127567376 signature_serialization.py:148] Function `_wrapped_model` contains input name(s) args_0, 34581, resource with unsupported characters which will be renamed to args_0_18, mlp_private__op_embedding_embedding_embedding_lookup_34581, mlp_sequential_dense_2_biasadd_readvariableop_resource in the SavedModel.\n",
      "I0921 15:41:24.973722 281473127567376 save.py:274] Found untraced functions such as _update_step_xla while saving (showing 1 of 1). These functions will not be directly callable after loading.\n",
      "/usr/local/lib/python3.9/site-packages/tensorflow/python/saved_model/nested_structure_coder.py:475: UserWarning: Encoding a StructuredValue with type tensorflow_gnn.GraphTensorSpec; loading this StructuredValue will require that this type be imported and registered.\n",
      "  warnings.warn(\"Encoding a StructuredValue with type %s; loading this \"\n",
      "/usr/local/lib/python3.9/site-packages/tensorflow/python/saved_model/nested_structure_coder.py:475: UserWarning: Encoding a StructuredValue with type tensorflow_gnn.ContextSpec.v2; loading this StructuredValue will require that this type be imported and registered.\n",
      "  warnings.warn(\"Encoding a StructuredValue with type %s; loading this \"\n",
      "/usr/local/lib/python3.9/site-packages/tensorflow/python/saved_model/nested_structure_coder.py:475: UserWarning: Encoding a StructuredValue with type tensorflow_gnn.NodeSetSpec; loading this StructuredValue will require that this type be imported and registered.\n",
      "  warnings.warn(\"Encoding a StructuredValue with type %s; loading this \"\n",
      "/usr/local/lib/python3.9/site-packages/tensorflow/python/saved_model/nested_structure_coder.py:475: UserWarning: Encoding a StructuredValue with type tensorflow_gnn.EdgeSetSpec; loading this StructuredValue will require that this type be imported and registered.\n",
      "  warnings.warn(\"Encoding a StructuredValue with type %s; loading this \"\n",
      "/usr/local/lib/python3.9/site-packages/tensorflow/python/saved_model/nested_structure_coder.py:475: UserWarning: Encoding a StructuredValue with type tensorflow_gnn.AdjacencySpec; loading this StructuredValue will require that this type be imported and registered.\n",
      "  warnings.warn(\"Encoding a StructuredValue with type %s; loading this \"\n",
      "INFO:tensorflow:Assets written to: /root/out/tpugraphs_tiles/model_e0e9d841871f951e2fb09ee450c4f3c5/assets\n",
      "I0921 15:41:25.128182 281473127567376 builder_impl.py:804] Assets written to: /root/out/tpugraphs_tiles/model_e0e9d841871f951e2fb09ee450c4f3c5/assets\n",
      "I0921 15:41:25.139516 281473127567376 fingerprinting_utils.py:48] Writing fingerprint to /root/out/tpugraphs_tiles/model_e0e9d841871f951e2fb09ee450c4f3c5/fingerprint.pb\n",
      "I0921 15:41:25.154443 281473127567376 train_lib.py:75] wrote /root/out/tpugraphs_tiles/model_e0e9d841871f951e2fb09ee450c4f3c5\n",
      "565/565 [==============================] - 3s 3ms/step - loss: 9.6063 - opa_metric: 0.7437 - val_loss: 9.6673 - val_opa_metric: 0.7413\n",
      "565/565 [==============================] - 3s 3ms/step - loss: 9.6377 - opa_metric: 0.7424 - val_loss: 9.7370 - val_opa_metric: 0.7523\n",
      "565/565 [==============================] - 3s 3ms/step - loss: 9.6805 - opa_metric: 0.7402 - val_loss: 9.6776 - val_opa_metric: 0.7511\n",
      "565/565 [==============================] - 3s 3ms/step - loss: 9.6316 - opa_metric: 0.7428 - val_loss: 9.5713 - val_opa_metric: 0.7549\n",
      "565/565 [==============================] - 3s 3ms/step - loss: 9.6658 - opa_metric: 0.7398 - val_loss: 9.6329 - val_opa_metric: 0.7507\n",
      "565/565 [==============================] - 3s 3ms/step - loss: 9.6645 - opa_metric: 0.7423 - val_loss: 9.6930 - val_opa_metric: 0.7476\n",
      "565/565 [==============================] - 3s 3ms/step - loss: 9.7210 - opa_metric: 0.7336 - val_loss: 9.6440 - val_opa_metric: 0.7468\n",
      "565/565 [==============================] - 3s 3ms/step - loss: 9.6500 - opa_metric: 0.7384 - val_loss: 9.6580 - val_opa_metric: 0.7459\n",
      "565/565 [==============================] - 3s 3ms/step - loss: 9.6436 - opa_metric: 0.7399 - val_loss: 9.6170 - val_opa_metric: 0.7578\n",
      "I0921 15:41:48.811192 281473127567376 train_lib.py:152]  * [@17] Validation (NEW BEST): 0.7577976584434509\n",
      "I0921 15:41:48.811946 281473127567376 train_lib.py:70] wrote /root/out/tpugraphs_tiles/run_e0e9d841871f951e2fb09ee450c4f3c5.jsonz\n",
      "I0921 15:41:49.156183 281473127567376 signature_serialization.py:148] Function `_wrapped_model` contains input name(s) args_0, 59579, resource with unsupported characters which will be renamed to args_0_18, mlp_private__op_embedding_embedding_embedding_lookup_59579, mlp_sequential_dense_2_biasadd_readvariableop_resource in the SavedModel.\n",
      "I0921 15:41:49.258242 281473127567376 save.py:274] Found untraced functions such as _update_step_xla while saving (showing 1 of 1). These functions will not be directly callable after loading.\n",
      "/usr/local/lib/python3.9/site-packages/tensorflow/python/saved_model/nested_structure_coder.py:475: UserWarning: Encoding a StructuredValue with type tensorflow_gnn.GraphTensorSpec; loading this StructuredValue will require that this type be imported and registered.\n",
      "  warnings.warn(\"Encoding a StructuredValue with type %s; loading this \"\n",
      "/usr/local/lib/python3.9/site-packages/tensorflow/python/saved_model/nested_structure_coder.py:475: UserWarning: Encoding a StructuredValue with type tensorflow_gnn.ContextSpec.v2; loading this StructuredValue will require that this type be imported and registered.\n",
      "  warnings.warn(\"Encoding a StructuredValue with type %s; loading this \"\n",
      "/usr/local/lib/python3.9/site-packages/tensorflow/python/saved_model/nested_structure_coder.py:475: UserWarning: Encoding a StructuredValue with type tensorflow_gnn.NodeSetSpec; loading this StructuredValue will require that this type be imported and registered.\n",
      "  warnings.warn(\"Encoding a StructuredValue with type %s; loading this \"\n",
      "/usr/local/lib/python3.9/site-packages/tensorflow/python/saved_model/nested_structure_coder.py:475: UserWarning: Encoding a StructuredValue with type tensorflow_gnn.EdgeSetSpec; loading this StructuredValue will require that this type be imported and registered.\n",
      "  warnings.warn(\"Encoding a StructuredValue with type %s; loading this \"\n",
      "/usr/local/lib/python3.9/site-packages/tensorflow/python/saved_model/nested_structure_coder.py:475: UserWarning: Encoding a StructuredValue with type tensorflow_gnn.AdjacencySpec; loading this StructuredValue will require that this type be imported and registered.\n",
      "  warnings.warn(\"Encoding a StructuredValue with type %s; loading this \"\n",
      "INFO:tensorflow:Assets written to: /root/out/tpugraphs_tiles/model_e0e9d841871f951e2fb09ee450c4f3c5/assets\n",
      "I0921 15:41:49.413869 281473127567376 builder_impl.py:804] Assets written to: /root/out/tpugraphs_tiles/model_e0e9d841871f951e2fb09ee450c4f3c5/assets\n",
      "I0921 15:41:49.425201 281473127567376 fingerprinting_utils.py:48] Writing fingerprint to /root/out/tpugraphs_tiles/model_e0e9d841871f951e2fb09ee450c4f3c5/fingerprint.pb\n",
      "I0921 15:41:49.439862 281473127567376 train_lib.py:75] wrote /root/out/tpugraphs_tiles/model_e0e9d841871f951e2fb09ee450c4f3c5\n",
      "565/565 [==============================] - 3s 3ms/step - loss: 9.6430 - opa_metric: 0.7411 - val_loss: 9.6753 - val_opa_metric: 0.7507\n",
      "565/565 [==============================] - 3s 3ms/step - loss: 9.6994 - opa_metric: 0.7427 - val_loss: 9.6826 - val_opa_metric: 0.7404\n",
      "565/565 [==============================] - 3s 3ms/step - loss: 9.6933 - opa_metric: 0.7383 - val_loss: 9.6599 - val_opa_metric: 0.7576\n",
      "565/565 [==============================] - 3s 3ms/step - loss: 9.6765 - opa_metric: 0.7422 - val_loss: 9.6682 - val_opa_metric: 0.7484\n",
      "565/565 [==============================] - 3s 3ms/step - loss: 9.6408 - opa_metric: 0.7402 - val_loss: 9.6730 - val_opa_metric: 0.7519\n",
      "565/565 [==============================] - 3s 3ms/step - loss: 9.6631 - opa_metric: 0.7425 - val_loss: 9.7000 - val_opa_metric: 0.7524\n",
      "565/565 [==============================] - 3s 3ms/step - loss: 9.6806 - opa_metric: 0.7393 - val_loss: 9.7363 - val_opa_metric: 0.7456\n",
      "565/565 [==============================] - 3s 3ms/step - loss: 9.6423 - opa_metric: 0.7400 - val_loss: 9.7037 - val_opa_metric: 0.7488\n",
      "565/565 [==============================] - 3s 3ms/step - loss: 9.6560 - opa_metric: 0.7367 - val_loss: 9.7534 - val_opa_metric: 0.7381\n",
      "565/565 [==============================] - 3s 3ms/step - loss: 9.6571 - opa_metric: 0.7393 - val_loss: 9.6755 - val_opa_metric: 0.7488\n",
      "565/565 [==============================] - 3s 3ms/step - loss: 9.6239 - opa_metric: 0.7400 - val_loss: 9.7933 - val_opa_metric: 0.7483\n",
      "565/565 [==============================] - 3s 3ms/step - loss: 9.6481 - opa_metric: 0.7433 - val_loss: 9.6968 - val_opa_metric: 0.7505\n",
      "565/565 [==============================] - 3s 3ms/step - loss: 9.6819 - opa_metric: 0.7379 - val_loss: 9.6892 - val_opa_metric: 0.7474\n",
      "565/565 [==============================] - 3s 3ms/step - loss: 9.6482 - opa_metric: 0.7395 - val_loss: 9.7665 - val_opa_metric: 0.7421\n",
      "565/565 [==============================] - 3s 3ms/step - loss: 9.6184 - opa_metric: 0.7440 - val_loss: 9.6986 - val_opa_metric: 0.7538\n",
      "565/565 [==============================] - 3s 3ms/step - loss: 9.6985 - opa_metric: 0.7425 - val_loss: 9.7595 - val_opa_metric: 0.7449\n",
      "565/565 [==============================] - 3s 3ms/step - loss: 9.6611 - opa_metric: 0.7417 - val_loss: 9.7138 - val_opa_metric: 0.7425\n",
      "565/565 [==============================] - 3s 3ms/step - loss: 9.6809 - opa_metric: 0.7389 - val_loss: 9.6733 - val_opa_metric: 0.7453\n",
      "565/565 [==============================] - 3s 3ms/step - loss: 9.6564 - opa_metric: 0.7377 - val_loss: 9.6692 - val_opa_metric: 0.7442\n",
      "565/565 [==============================] - 3s 3ms/step - loss: 9.6594 - opa_metric: 0.7396 - val_loss: 9.6742 - val_opa_metric: 0.7479\n",
      "I0921 15:42:42.071959 281473127567376 train_lib.py:156] [@37] Best accuracy was attained at epoch 17. Stopping.\n",
      "Generating Predictions: 100%|█████████████████| 844/844 [00:29<00:00, 28.31it/s]\n",
      "I0921 15:43:38.137209 281473127567376 train_lib.py:176] Writing Results\n",
      "\n",
      "\n",
      "   ***  Wrote /root/out/tpugraphs_tiles/results_1695310846590.csv \n",
      "\n",
      "\n",
      "I0921 15:43:38.299211 281473127567376 train_lib.py:70] wrote /root/out/tpugraphs_tiles/run_e0e9d841871f951e2fb09ee450c4f3c5.jsonz\n",
      "I0921 15:43:38.855081 281473127567376 signature_serialization.py:148] Function `_wrapped_model` contains input name(s) args_0, 347729, resource with unsupported characters which will be renamed to args_0_18, mlp_private__op_embedding_embedding_embedding_lookup_347729, mlp_sequential_dense_2_biasadd_readvariableop_resource in the SavedModel.\n",
      "I0921 15:43:38.965216 281473127567376 save.py:274] Found untraced functions such as _update_step_xla while saving (showing 1 of 1). These functions will not be directly callable after loading.\n",
      "/usr/local/lib/python3.9/site-packages/tensorflow/python/saved_model/nested_structure_coder.py:475: UserWarning: Encoding a StructuredValue with type tensorflow_gnn.GraphTensorSpec; loading this StructuredValue will require that this type be imported and registered.\n",
      "  warnings.warn(\"Encoding a StructuredValue with type %s; loading this \"\n",
      "/usr/local/lib/python3.9/site-packages/tensorflow/python/saved_model/nested_structure_coder.py:475: UserWarning: Encoding a StructuredValue with type tensorflow_gnn.ContextSpec.v2; loading this StructuredValue will require that this type be imported and registered.\n",
      "  warnings.warn(\"Encoding a StructuredValue with type %s; loading this \"\n",
      "/usr/local/lib/python3.9/site-packages/tensorflow/python/saved_model/nested_structure_coder.py:475: UserWarning: Encoding a StructuredValue with type tensorflow_gnn.NodeSetSpec; loading this StructuredValue will require that this type be imported and registered.\n",
      "  warnings.warn(\"Encoding a StructuredValue with type %s; loading this \"\n",
      "/usr/local/lib/python3.9/site-packages/tensorflow/python/saved_model/nested_structure_coder.py:475: UserWarning: Encoding a StructuredValue with type tensorflow_gnn.EdgeSetSpec; loading this StructuredValue will require that this type be imported and registered.\n",
      "  warnings.warn(\"Encoding a StructuredValue with type %s; loading this \"\n",
      "/usr/local/lib/python3.9/site-packages/tensorflow/python/saved_model/nested_structure_coder.py:475: UserWarning: Encoding a StructuredValue with type tensorflow_gnn.AdjacencySpec; loading this StructuredValue will require that this type be imported and registered.\n",
      "  warnings.warn(\"Encoding a StructuredValue with type %s; loading this \"\n",
      "INFO:tensorflow:Assets written to: /root/out/tpugraphs_tiles/model_e0e9d841871f951e2fb09ee450c4f3c5/assets\n",
      "I0921 15:43:39.125274 281473127567376 builder_impl.py:804] Assets written to: /root/out/tpugraphs_tiles/model_e0e9d841871f951e2fb09ee450c4f3c5/assets\n",
      "I0921 15:43:39.136724 281473127567376 fingerprinting_utils.py:48] Writing fingerprint to /root/out/tpugraphs_tiles/model_e0e9d841871f951e2fb09ee450c4f3c5/fingerprint.pb\n",
      "I0921 15:43:39.153880 281473127567376 train_lib.py:75] wrote /root/out/tpugraphs_tiles/model_e0e9d841871f951e2fb09ee450c4f3c5\n"
     ]
    }
   ],
   "source": [
    "!python tiles_train.py \\\n",
    "    --batch=10 \\\n",
    "    --early_stop=20 \\\n",
    "    --lr=0.001 \\\n",
    "    --clip_norm=0.001 \\\n",
    "    --configs=8 \\\n",
    "    --model=MLP \\\n",
    "    --losses=ListMLELoss:1 \\\n",
    "    --model_kwargs_json='{\"op_embed_dim\": 64, \"hidden_dim\": 64, \"mlp_layers\": 2}' \\\n",
    "    "
   ]
  },
  {
   "cell_type": "code",
   "execution_count": 39,
   "id": "ef0973d9-c0ff-4666-98ee-230e0bfb8b7a",
   "metadata": {},
   "outputs": [
    {
     "name": "stdout",
     "output_type": "stream",
     "text": [
      "Binary for invoking the training loop.\n",
      "flags:\n",
      "\n",
      "absl.app:\n",
      "  -?,--[no]help: show this help\n",
      "    (default: 'false')\n",
      "  --[no]helpfull: show full help\n",
      "    (default: 'false')\n",
      "  --[no]helpshort: show this help\n",
      "    (default: 'false')\n",
      "  --[no]helpxml: like --helpfull, but generates XML output\n",
      "    (default: 'false')\n",
      "  --[no]only_check_args: Set to true to validate args and exit.\n",
      "    (default: 'false')\n",
      "  --[no]pdb: Alias for --pdb_post_mortem.\n",
      "    (default: 'false')\n",
      "  --[no]pdb_post_mortem: Set to true to handle uncaught exceptions with PDB post\n",
      "    mortem.\n",
      "    (default: 'false')\n",
      "  --profile_file: Dump profile information to a file (for python -m pstats).\n",
      "    Implies --run_with_profiling.\n",
      "  --[no]run_with_pdb: Set to true for PDB debug mode\n",
      "    (default: 'false')\n",
      "  --[no]run_with_profiling: Set to true for profiling the script. Execution will\n",
      "    be slower, and the output format might change over time.\n",
      "    (default: 'false')\n",
      "  --[no]use_cprofile_for_profiling: Use cProfile instead of the profile module\n",
      "    for profiling. This has no effect unless --run_with_profiling is set.\n",
      "    (default: 'true')\n",
      "\n",
      "absl.logging:\n",
      "  --[no]alsologtostderr: also log to stderr?\n",
      "    (default: 'false')\n",
      "  --log_dir: directory to write logfiles into\n",
      "    (default: '')\n",
      "  --logger_levels: Specify log level of loggers. The format is a CSV list of\n",
      "    `name:level`. Where `name` is the logger name used with\n",
      "    `logging.getLogger()`, and `level` is a level name  (INFO, DEBUG, etc). e.g.\n",
      "    `myapp.foo:INFO,other.logger:DEBUG`\n",
      "    (default: '')\n",
      "  --[no]logtostderr: Should only log to stderr?\n",
      "    (default: 'false')\n",
      "  --[no]showprefixforinfo: If False, do not prepend prefix to info messages when\n",
      "    it's logged to stderr, --verbosity is set to INFO level, and python logging\n",
      "    is used.\n",
      "    (default: 'true')\n",
      "  --stderrthreshold: log messages at this level, or more severe, to stderr in\n",
      "    addition to the logfile.  Possible values are 'debug', 'info', 'warning',\n",
      "    'error', and 'fatal'.  Obsoletes --alsologtostderr. Using --alsologtostderr\n",
      "    cancels the effect of this flag. Please also note that this flag is subject\n",
      "    to --verbosity and requires logfile not be stderr.\n",
      "    (default: 'fatal')\n",
      "  -v,--verbosity: Logging verbosity level. Messages logged at this level or\n",
      "    lower will be included. Set to 1 for debug logging. If the flag was not set\n",
      "    or supplied, the value will be changed from the default of -1 (warning) to 0\n",
      "    (info) after flags are parsed.\n",
      "    (default: '-1')\n",
      "    (an integer)\n",
      "\n",
      "absl.testing.absltest:\n",
      "  --test_random_seed: Random seed for testing. Some test frameworks may change\n",
      "    the default value of this flag between runs, so it is not appropriate for\n",
      "    seeding probabilistic tests.\n",
      "    (default: '301')\n",
      "    (an integer)\n",
      "  --test_randomize_ordering_seed: If positive, use this as a seed to randomize\n",
      "    the execution order for test cases. If \"random\", pick a random seed to use.\n",
      "    If 0 or not set, do not randomize test case execution order. This flag also\n",
      "    overrides the TEST_RANDOMIZE_ORDERING_SEED environment variable.\n",
      "    (default: '')\n",
      "  --test_srcdir: Root of directory tree where source files live\n",
      "    (default: '')\n",
      "  --test_tmpdir: Directory for temporary testing files\n",
      "    (default: '/tmp/absl_testing')\n",
      "  --xml_output_file: File to store XML test results\n",
      "    (default: '')\n",
      "\n",
      "tensorflow.python.ops.parallel_for.pfor:\n",
      "  --[no]op_conversion_fallback_to_while_loop: DEPRECATED: Flag is ignored.\n",
      "    (default: 'true')\n",
      "\n",
      "tensorflow.python.tpu.client.client:\n",
      "  --[no]hbm_oom_exit: Exit the script when the TPU HBM is OOM.\n",
      "    (default: 'true')\n",
      "  --[no]runtime_oom_exit: Exit the script when the TPU runtime is OOM.\n",
      "    (default: 'true')\n",
      "\n",
      "tensorflow.python.tpu.tensor_tracer_flags:\n",
      "  --delta_threshold: Log if history based diff crosses this threshold.\n",
      "    (default: '0.5')\n",
      "    (a number)\n",
      "  --[no]tt_check_filter: Terminate early to check op name filtering.\n",
      "    (default: 'false')\n",
      "  --[no]tt_single_core_summaries: Report single core metric and avoid\n",
      "    aggregation.\n",
      "    (default: 'false')\n",
      "\n",
      "tpu_graphs.baselines.tiles.data:\n",
      "  --[no]toy_data: If set, then only 100 examples will be used in each of {train,\n",
      "    test, validation} partitions.\n",
      "    (default: 'false')\n",
      "\n",
      "tpu_graphs.baselines.tiles.train_args:\n",
      "  --batch: Batch size: number of subgraphs, each with `--configs`\n",
      "    configurations.\n",
      "    (default: '10')\n",
      "    (an integer)\n",
      "  --clip_norm: Max L2 norm of gradient per tensor.\n",
      "    (default: '0.001')\n",
      "    (a number)\n",
      "  --configs: Number of configurations to consider in ranked-list.\n",
      "    (default: '10')\n",
      "    (an integer)\n",
      "  --early_stop: If held-out validation does not improve after this many epochs,\n",
      "    then training will stop. Must be divisible by `--eval_every`.\n",
      "    (default: '20')\n",
      "    (an integer)\n",
      "  --epochs: number of train epochs.\n",
      "    (default: '100')\n",
      "    (an integer)\n",
      "  --eval_every: Eval every this many.\n",
      "    (default: '5')\n",
      "    (an integer)\n",
      "  --losses: Comma-separated list of \"lossName:lossWeight\", per `metrics.py`.\n",
      "    (default: 'ListMLELoss:1,MSE:0.02')\n",
      "  --lr: Learning rate for Adam optimizer.\n",
      "    (default: '0.001')\n",
      "    (a number)\n",
      "  --model: Name of model. Must be a class in models.py. E.g., LateJoinResGCN,\n",
      "    EarlyJoinResGCN, LateJoinSAGE, EarlyJoinSAGE, MLP.\n",
      "    (default: 'EarlyJoinSAGE')\n",
      "  --model_kwargs_json: JSON-serialized dictionary with model class constructor\n",
      "    arguments.\n",
      "    (default: '{}')\n",
      "  --out_dir: Output metrics and trained models will be written here.\n",
      "    (default: '~/out/tpugraphs_tiles')\n",
      "  --results_csv: Path to output CSV file to contain inference on test examples.\n",
      "    If not set, defaults to <--out_dir>/results_<timestamp>.csv.\n",
      "    (default: '')\n",
      "  --run_id: Can be used for tagging the experiment.\n",
      "    (default: '')\n",
      "  --test_mode: <metrics|predictions>: Whether to compute test metrics or output\n",
      "    predictions csv file. If set to \"metrics\", then test graphs must contain\n",
      "    `config_runtimes` and `config_runtime_normalizers` and test metrics will be\n",
      "    added to output file (written in `--out_dir`). If set to \"predictions\", then\n",
      "    csv file will be written containing predictions.\n",
      "    (default: 'predictions')\n",
      "  --validate_batches: If set to >0, then only this many batches will be used to\n",
      "    compute validation error while training. Nonetheless, full validation will\n",
      "    be computed *after* training, but using the best model parameters computed\n",
      "    on this many batches\n",
      "    (default: '-1')\n",
      "    (an integer)\n",
      "\n",
      "tpu_graphs.baselines.tiles.train_lib:\n",
      "  --cache_dir: If given, dataset tensors will be cached here for faster loading.\n",
      "    (default: '~/data/tpugraphs/cache/tile')\n",
      "  --data_root: Root directory containing dataset. It must contain subdirectories\n",
      "    {train, test, validation}, each having many .npz files\n",
      "    (default: '~/data/tpugraphs/npz/tile/xla')\n",
      "\n",
      "absl.flags:\n",
      "  --flagfile: Insert flag definitions from the given file into the command line.\n",
      "    (default: '')\n",
      "  --undefok: comma-separated list of flag names that it is okay to specify on\n",
      "    the command line even if the program does not define a flag with that name.\n",
      "    IMPORTANT: flags in this list that have arguments MUST use the --flag=value\n",
      "    format.\n",
      "    (default: '')\n"
     ]
    }
   ],
   "source": [
    "!python tiles_train.py --helpfull"
   ]
  },
  {
   "cell_type": "code",
   "execution_count": null,
   "id": "a9d59a98-1835-4431-9bf3-356f69a8439b",
   "metadata": {},
   "outputs": [],
   "source": []
  }
 ],
 "metadata": {
  "kernelspec": {
   "display_name": "Python 3 (ipykernel)",
   "language": "python",
   "name": "python3"
  },
  "language_info": {
   "codemirror_mode": {
    "name": "ipython",
    "version": 3
   },
   "file_extension": ".py",
   "mimetype": "text/x-python",
   "name": "python",
   "nbconvert_exporter": "python",
   "pygments_lexer": "ipython3",
   "version": "3.9.11"
  }
 },
 "nbformat": 4,
 "nbformat_minor": 5
}
