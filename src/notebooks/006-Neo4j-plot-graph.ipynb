{
 "cells": [
  {
   "cell_type": "code",
   "execution_count": 4,
   "id": "fb09d020-14d8-41a3-a583-098c349ca094",
   "metadata": {},
   "outputs": [],
   "source": [
    "import os\n",
    "from tpu_graphs.baselines.layout import data"
   ]
  },
  {
   "cell_type": "code",
   "execution_count": 16,
   "id": "7eb844c4-a0d0-414b-8fba-eb5f2b5886f6",
   "metadata": {},
   "outputs": [
    {
     "name": "stdout",
     "output_type": "stream",
     "text": [
      "dataset cache file:  /root/data/tpugraphs/npz/cache/layout/xla/random/d514562f0c89ac4197fe116fb815f469-cache.npz\n",
      "loaded from /root/data/tpugraphs/npz/cache/layout/xla/random/d514562f0c89ac4197fe116fb815f469-cache.npz\n",
      "dataset cache file:  /root/data/tpugraphs/npz/cache/layout/xla/random/952b23d45d55278e3de8e0d26bca07ee-cache.npz\n",
      "loaded from /root/data/tpugraphs/npz/cache/layout/xla/random/952b23d45d55278e3de8e0d26bca07ee-cache.npz\n",
      "dataset cache file:  /root/data/tpugraphs/npz/cache/layout/xla/random/33cd65558644c3d95f8b38aa87878c1d-cache.npz\n",
      "loaded from /root/data/tpugraphs/npz/cache/layout/xla/random/33cd65558644c3d95f8b38aa87878c1d-cache.npz\n"
     ]
    }
   ],
   "source": [
    "data_root_dir = os.path.join(os.path.expanduser('~/data/tpugraphs/npz/layout'), 'xla', 'random')\n",
    "cache_dir = os.path.join(os.path.expanduser('~/data/tpugraphs/npz/cache/layout'), 'xla', 'random')\n",
    "num_configs = 1\n",
    "dataset_partitions = data.get_npz_dataset(\n",
    "      data_root_dir,\n",
    "      min_train_configs=num_configs,\n",
    "      max_train_configs=10,\n",
    "      cache_dir=cache_dir)\n",
    "\n",
    "sample_graph = dataset_partitions.train.get_item(0)"
   ]
  },
  {
   "cell_type": "code",
   "execution_count": null,
   "id": "0970b168-3a08-4b5d-b827-e574ae3ecb51",
   "metadata": {},
   "outputs": [
    {
     "data": {
      "text/plain": [
       "array([[   2,    0],\n",
       "       [   2,    1],\n",
       "       [   5,    3],\n",
       "       ...,\n",
       "       [1109, 1099],\n",
       "       [1109, 1108],\n",
       "       [1110, 1109]], dtype=int32)"
      ]
     },
     "execution_count": 29,
     "metadata": {},
     "output_type": "execute_result"
    }
   ],
   "source": [
    "sample_graph.edges.numpy()"
   ]
  },
  {
   "cell_type": "code",
   "execution_count": 34,
   "id": "5c795800-fe50-4e25-befe-48e7a344d5dc",
   "metadata": {},
   "outputs": [],
   "source": [
    "import pandas as pd"
   ]
  },
  {
   "cell_type": "code",
   "execution_count": 37,
   "id": "ab837a11-efe8-4e9c-bcde-ebb907c25bc6",
   "metadata": {
    "tags": []
   },
   "outputs": [],
   "source": [
    "pd.DataFrame({'from_node_id': sample_graph.edges.numpy()[:,0], 'to_node_id': sample_graph.edges.numpy()[:,1]}).to_csv('edge_list.csv')"
   ]
  },
  {
   "cell_type": "code",
   "execution_count": 47,
   "id": "7c944247-2f61-44b0-8218-5db58e5a5f90",
   "metadata": {},
   "outputs": [],
   "source": [
    "pd.DataFrame({'ops_codes': sample_graph.node_ops.numpy()}).reset_index().rename({'index':'node_id'}).to_csv('node_list.csv')"
   ]
  },
  {
   "cell_type": "code",
   "execution_count": 48,
   "id": "8fe786de-9a24-41a0-9f1c-b6da3d60b38b",
   "metadata": {},
   "outputs": [
    {
     "data": {
      "text/html": [
       "<div>\n",
       "<style scoped>\n",
       "    .dataframe tbody tr th:only-of-type {\n",
       "        vertical-align: middle;\n",
       "    }\n",
       "\n",
       "    .dataframe tbody tr th {\n",
       "        vertical-align: top;\n",
       "    }\n",
       "\n",
       "    .dataframe thead th {\n",
       "        text-align: right;\n",
       "    }\n",
       "</style>\n",
       "<table border=\"1\" class=\"dataframe\">\n",
       "  <thead>\n",
       "    <tr style=\"text-align: right;\">\n",
       "      <th></th>\n",
       "      <th>index</th>\n",
       "      <th>ops_codes</th>\n",
       "    </tr>\n",
       "  </thead>\n",
       "  <tbody>\n",
       "    <tr>\n",
       "      <th>0</th>\n",
       "      <td>0</td>\n",
       "      <td>63</td>\n",
       "    </tr>\n",
       "    <tr>\n",
       "      <th>1</th>\n",
       "      <td>1</td>\n",
       "      <td>63</td>\n",
       "    </tr>\n",
       "    <tr>\n",
       "      <th>2</th>\n",
       "      <td>2</td>\n",
       "      <td>57</td>\n",
       "    </tr>\n",
       "    <tr>\n",
       "      <th>3</th>\n",
       "      <td>3</td>\n",
       "      <td>63</td>\n",
       "    </tr>\n",
       "    <tr>\n",
       "      <th>4</th>\n",
       "      <td>4</td>\n",
       "      <td>63</td>\n",
       "    </tr>\n",
       "    <tr>\n",
       "      <th>...</th>\n",
       "      <td>...</td>\n",
       "      <td>...</td>\n",
       "    </tr>\n",
       "    <tr>\n",
       "      <th>1106</th>\n",
       "      <td>1106</td>\n",
       "      <td>12</td>\n",
       "    </tr>\n",
       "    <tr>\n",
       "      <th>1107</th>\n",
       "      <td>1107</td>\n",
       "      <td>2</td>\n",
       "    </tr>\n",
       "    <tr>\n",
       "      <th>1108</th>\n",
       "      <td>1108</td>\n",
       "      <td>83</td>\n",
       "    </tr>\n",
       "    <tr>\n",
       "      <th>1109</th>\n",
       "      <td>1109</td>\n",
       "      <td>31</td>\n",
       "    </tr>\n",
       "    <tr>\n",
       "      <th>1110</th>\n",
       "      <td>1110</td>\n",
       "      <td>100</td>\n",
       "    </tr>\n",
       "  </tbody>\n",
       "</table>\n",
       "<p>1111 rows × 2 columns</p>\n",
       "</div>"
      ],
      "text/plain": [
       "      index  ops_codes\n",
       "0         0         63\n",
       "1         1         63\n",
       "2         2         57\n",
       "3         3         63\n",
       "4         4         63\n",
       "...     ...        ...\n",
       "1106   1106         12\n",
       "1107   1107          2\n",
       "1108   1108         83\n",
       "1109   1109         31\n",
       "1110   1110        100\n",
       "\n",
       "[1111 rows x 2 columns]"
      ]
     },
     "execution_count": 48,
     "metadata": {},
     "output_type": "execute_result"
    }
   ],
   "source": [
    "pd.DataFrame({'ops_codes': sample_graph.node_ops.numpy()}).reset_index().rename({'index':'node_id'})"
   ]
  },
  {
   "cell_type": "code",
   "execution_count": null,
   "id": "3d3a1d4e-43de-46e0-a0e6-8e577119abee",
   "metadata": {},
   "outputs": [],
   "source": [
    "from matplotlib import pylab\n",
    "import networkx as nx\n",
    "\n",
    "def save_graph(graph,file_name):\n",
    "    #initialze Figure\n",
    "    plt.figure(num=None, figsize=(20, 20), dpi=80)\n",
    "    plt.axis('off')\n",
    "    fig = plt.figure(1)\n",
    "    pos = nx.spring_layout(graph)\n",
    "    nx.draw_networkx_nodes(graph,pos)\n",
    "    nx.draw_networkx_edges(graph,pos)\n",
    "    nx.draw_networkx_labels(graph,pos)\n",
    "\n",
    "    cut = 1.00\n",
    "    xmax = cut * max(xx for xx, yy in pos.values())\n",
    "    ymax = cut * max(yy for xx, yy in pos.values())\n",
    "    plt.xlim(0, xmax)\n",
    "    plt.ylim(0, ymax)\n",
    "\n",
    "    plt.savefig(file_name,bbox_inches=\"tight\")\n",
    "    pylab.close()\n",
    "    del fig\n",
    "\n",
    "#Assuming that the graph g has nodes and edges entered\n",
    "save_graph(g,\"my_graph.pdf\")"
   ]
  }
 ],
 "metadata": {
  "kernelspec": {
   "display_name": "Python 3 (ipykernel)",
   "language": "python",
   "name": "python3"
  },
  "language_info": {
   "codemirror_mode": {
    "name": "ipython",
    "version": 3
   },
   "file_extension": ".py",
   "mimetype": "text/x-python",
   "name": "python",
   "nbconvert_exporter": "python",
   "pygments_lexer": "ipython3",
   "version": "3.9.11"
  }
 },
 "nbformat": 4,
 "nbformat_minor": 5
}
